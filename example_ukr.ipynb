{
 "cells": [
  {
   "cell_type": "markdown",
   "id": "nasty-intention",
   "metadata": {
    "id": "nasty-intention"
   },
   "source": [
    "# Silero Models Ukranian Demo"
   ]
  },
  {
   "cell_type": "markdown",
   "id": "previous-bacon",
   "metadata": {
    "id": "previous-bacon"
   },
   "source": [
    "## Dependencies and Imports"
   ]
  },
  {
   "cell_type": "code",
   "execution_count": null,
   "id": "complicated-receiver",
   "metadata": {
    "ExecuteTime": {
     "end_time": "2021-06-18T06:34:38.757647Z",
     "start_time": "2021-06-18T06:34:37.545968Z"
    },
    "cellView": "form",
    "id": "complicated-receiver"
   },
   "outputs": [],
   "source": [
    "#@title Install dependencies\n",
    "\n",
    "!pip install -q torchaudio omegaconf\n",
    "\n",
    "import torch\n",
    "from pprint import pprint\n",
    "from omegaconf import OmegaConf\n",
    "from IPython.display import Audio, display\n",
    "\n",
    "torch.hub.download_url_to_file('https://raw.githubusercontent.com/snakers4/silero-models/master/models.yml',\n",
    "                               'latest_silero_models.yml',\n",
    "                               progress=False)\n",
    "models = OmegaConf.load('latest_silero_models.yml')"
   ]
  },
  {
   "cell_type": "markdown",
   "id": "7oQde2ZNE-ok",
   "metadata": {
    "id": "7oQde2ZNE-ok"
   },
   "source": [
    "## List models"
   ]
  },
  {
   "cell_type": "code",
   "execution_count": null,
   "id": "pacific-injury",
   "metadata": {
    "ExecuteTime": {
     "end_time": "2021-06-18T06:34:47.677954Z",
     "start_time": "2021-06-18T06:34:47.665753Z"
    },
    "id": "pacific-injury"
   },
   "outputs": [],
   "source": [
    "# see latest avaiable models\n",
    "available_languages = list(models.tts_models.keys())\n",
    "print(f'Available languages {available_languages}')\n",
    "\n",
    "for lang in available_languages:\n",
    "    speakers = list(models.tts_models.get(lang).keys())\n",
    "    print(f'Available speakers for {lang}: {speakers}')"
   ]
  },
  {
   "cell_type": "markdown",
   "id": "aebc6429",
   "metadata": {},
   "source": [
    "## V3 example"
   ]
  },
  {
   "cell_type": "code",
   "execution_count": null,
   "id": "14f49758",
   "metadata": {},
   "outputs": [],
   "source": [
    "import torch\n",
    "\n",
    "language = 'ua'\n",
    "model_id = 'v3_ua'\n",
    "device = torch.device('cpu')\n",
    "\n",
    "model, example_text = torch.hub.load(repo_or_dir='snakers4/silero-models',\n",
    "                                     model='silero_tts',\n",
    "                                     language=language,\n",
    "                                     speaker=model_id)\n",
    "model.to(device)  # gpu or cpu"
   ]
  },
  {
   "cell_type": "markdown",
   "id": "98a29010",
   "metadata": {},
   "source": [
    "### Speakers"
   ]
  },
  {
   "cell_type": "code",
   "execution_count": null,
   "id": "9ae5f9dc",
   "metadata": {},
   "outputs": [],
   "source": [
    "model.speakers"
   ]
  },
  {
   "cell_type": "markdown",
   "id": "25a1ab3a",
   "metadata": {},
   "source": [
    "### SSML"
   ]
  },
  {
   "cell_type": "code",
   "execution_count": null,
   "id": "0c29189f",
   "metadata": {},
   "outputs": [],
   "source": [
    "ssml_sample = \"\"\"\n",
    "              <speak>\n",
    "              <p>\n",
    "                  Все, що робила наша країна стосовно антикорупційної структури, не пов’язано зі вступом в ЄС, а це для себе, для України...\n",
    "              </p>\n",
    "                  <p>\n",
    "                    <s>Цілі фонду - дати будинок, а не тимчасовий притулок.</s>\n",
    "                    <s>Швидке зведення модульного житла з легких збірно-розбірних конструкцій для коротко та довгострокового розміщення біженців, евакуйованих, внутрішньо переміщених осіб, що буде забезпечено опаленням, водопостачанням, каналізацією та включатиме об’єкти соціально-побутового обслуговування (пральня, перукарня, пункти надання домедичної та медичної, психологічної допомоги).</s>\n",
    "                  </p>\n",
    "              </speak>\n",
    "              \"\"\"\n",
    "\n",
    "sample_rate = 48000\n",
    "speaker = 'mykyta'              \n",
    "audio = model.apply_tts(ssml_text=ssml_sample,\n",
    "                        speaker=speaker,\n",
    "                        sample_rate=sample_rate)\n",
    "display(Audio(audio, rate=sample_rate))"
   ]
  }
 ],
 "metadata": {
  "colab": {
   "name": "examples_ukr.ipynb",
   "provenance": [],
   "toc_visible": true
  },
  "kernelspec": {
   "display_name": "Python 3 (ipykernel)",
   "language": "python",
   "name": "python3"
  },
  "language_info": {
   "codemirror_mode": {
    "name": "ipython",
    "version": 3
   },
   "file_extension": ".py",
   "mimetype": "text/x-python",
   "name": "python",
   "nbconvert_exporter": "python",
   "pygments_lexer": "ipython3",
   "version": "3.10.5"
  },
  "toc": {
   "base_numbering": 1,
   "nav_menu": {},
   "number_sections": true,
   "sideBar": true,
   "skip_h1_title": false,
   "title_cell": "Table of Contents",
   "title_sidebar": "Contents",
   "toc_cell": false,
   "toc_position": {},
   "toc_section_display": true,
   "toc_window_display": false
  }
 },
 "nbformat": 4,
 "nbformat_minor": 5
}
