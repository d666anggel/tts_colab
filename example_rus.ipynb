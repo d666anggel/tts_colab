{
  "cells": [
    {
      "cell_type": "markdown",
      "metadata": {
        "id": "view-in-github",
        "colab_type": "text"
      },
      "source": [
        "<a href=\"https://colab.research.google.com/github/d666anggel/tts_colab/blob/main/example_rus.ipynb\" target=\"_parent\"><img src=\"https://colab.research.google.com/assets/colab-badge.svg\" alt=\"Open In Colab\"/></a>"
      ]
    },
    {
      "cell_type": "markdown",
      "id": "nasty-intention",
      "metadata": {
        "id": "nasty-intention"
      },
      "source": [
        "# Silero Models Русский язык"
      ]
    },
    {
      "cell_type": "markdown",
      "id": "previous-bacon",
      "metadata": {
        "id": "previous-bacon"
      },
      "source": [
        "## Установка зависимостей"
      ]
    },
    {
      "cell_type": "code",
      "execution_count": 4,
      "id": "complicated-receiver",
      "metadata": {
        "ExecuteTime": {
          "end_time": "2021-06-18T06:34:38.757647Z",
          "start_time": "2021-06-18T06:34:37.545968Z"
        },
        "id": "complicated-receiver",
        "outputId": "77525f7f-8717-4585-8eb2-ac22503d19ba",
        "colab": {
          "base_uri": "https://localhost:8080/"
        }
      },
      "outputs": [
        {
          "output_type": "stream",
          "name": "stdout",
          "text": [
            "\u001b[?25l\r\u001b[K     |████▏                           | 10 kB 19.0 MB/s eta 0:00:01\r\u001b[K     |████████▎                       | 20 kB 12.6 MB/s eta 0:00:01\r\u001b[K     |████████████▍                   | 30 kB 9.4 MB/s eta 0:00:01\r\u001b[K     |████████████████▋               | 40 kB 8.5 MB/s eta 0:00:01\r\u001b[K     |████████████████████▊           | 51 kB 4.7 MB/s eta 0:00:01\r\u001b[K     |████████████████████████▉       | 61 kB 5.4 MB/s eta 0:00:01\r\u001b[K     |█████████████████████████████   | 71 kB 5.5 MB/s eta 0:00:01\r\u001b[K     |████████████████████████████████| 79 kB 3.4 MB/s \n",
            "\u001b[K     |████████████████████████████████| 117 kB 30.6 MB/s \n",
            "\u001b[K     |████████████████████████████████| 596 kB 45.8 MB/s \n",
            "\u001b[?25h  Building wheel for antlr4-python3-runtime (setup.py) ... \u001b[?25l\u001b[?25hdone\n"
          ]
        }
      ],
      "source": [
        "!pip install -q torchaudio omegaconf\n",
        "\n",
        "import torch\n",
        "from pprint import pprint\n",
        "from omegaconf import OmegaConf\n",
        "from IPython.display import Audio, display\n",
        "\n",
        "torch.hub.download_url_to_file('https://raw.githubusercontent.com/snakers4/silero-models/master/models.yml',\n",
        "                               'latest_silero_models.yml',\n",
        "                               progress=False)\n",
        "models = OmegaConf.load('latest_silero_models.yml')"
      ]
    },
    {
      "cell_type": "markdown",
      "id": "7oQde2ZNE-ok",
      "metadata": {
        "id": "7oQde2ZNE-ok"
      },
      "source": [
        "## Список модулей для языков"
      ]
    },
    {
      "cell_type": "code",
      "execution_count": 12,
      "id": "pacific-injury",
      "metadata": {
        "ExecuteTime": {
          "end_time": "2021-06-18T06:34:47.677954Z",
          "start_time": "2021-06-18T06:34:47.665753Z"
        },
        "id": "pacific-injury",
        "outputId": "18e8c57b-f589-4abe-acf6-60121cb9de1c",
        "colab": {
          "base_uri": "https://localhost:8080/"
        }
      },
      "outputs": [
        {
          "output_type": "stream",
          "name": "stdout",
          "text": [
            "Доступные языки ['ru', 'en', 'de', 'es', 'fr', 'ba', 'xal', 'tt', 'uz', 'ua', 'indic', 'multi']\n",
            "Доступные model_id для языка ru: ['v3_1_ru', 'ru_v3', 'aidar_v2', 'aidar_8khz', 'aidar_16khz', 'baya_v2', 'baya_8khz', 'baya_16khz', 'irina_v2', 'irina_8khz', 'irina_16khz', 'kseniya_v2', 'kseniya_8khz', 'kseniya_16khz', 'natasha_v2', 'natasha_8khz', 'natasha_16khz', 'ruslan_v2', 'ruslan_8khz', 'ruslan_16khz']\n",
            "Доступные model_id для языка en: ['v3_en', 'v3_en_indic', 'lj_v2', 'lj_8khz', 'lj_16khz']\n",
            "Доступные model_id для языка de: ['v3_de', 'thorsten_v2', 'thorsten_8khz', 'thorsten_16khz']\n",
            "Доступные model_id для языка es: ['v3_es', 'tux_v2', 'tux_8khz', 'tux_16khz']\n",
            "Доступные model_id для языка fr: ['v3_fr', 'gilles_v2', 'gilles_8khz', 'gilles_16khz']\n",
            "Доступные model_id для языка ba: ['aigul_v2']\n",
            "Доступные model_id для языка xal: ['v3_xal', 'erdni_v2']\n",
            "Доступные model_id для языка tt: ['v3_tt', 'dilyara_v2']\n",
            "Доступные model_id для языка uz: ['v3_uz', 'dilnavoz_v2']\n",
            "Доступные model_id для языка ua: ['v3_ua', 'mykyta_v2']\n",
            "Доступные model_id для языка indic: ['v3_indic']\n",
            "Доступные model_id для языка multi: ['multi_v2']\n"
          ]
        }
      ],
      "source": [
        "available_languages = list(models.tts_models.keys())\n",
        "print(f'Доступные языки {available_languages}')\n",
        "\n",
        "for lang in available_languages:\n",
        "    model_id = list(models.tts_models.get(lang).keys())\n",
        "    print(f'Доступные model_id для языка {lang}: {model_id}')"
      ]
    },
    {
      "cell_type": "markdown",
      "source": [
        "## Выбор последней версии модуля для русского языка"
      ],
      "metadata": {
        "id": "zlg_njWZYzYN"
      },
      "id": "zlg_njWZYzYN"
    },
    {
      "cell_type": "code",
      "execution_count": 13,
      "id": "14f49758",
      "metadata": {
        "id": "14f49758",
        "outputId": "e978c215-76a6-40cc-8816-1b27adc1ced4",
        "colab": {
          "base_uri": "https://localhost:8080/"
        }
      },
      "outputs": [
        {
          "output_type": "stream",
          "name": "stderr",
          "text": [
            "Using cache found in /root/.cache/torch/hub/snakers4_silero-models_master\n"
          ]
        },
        {
          "output_type": "stream",
          "name": "stdout",
          "text": [
            "Доступные спикеры:\n"
          ]
        },
        {
          "output_type": "execute_result",
          "data": {
            "text/plain": [
              "['aidar', 'baya', 'kseniya', 'xenia', 'eugene', 'random']"
            ]
          },
          "metadata": {},
          "execution_count": 13
        }
      ],
      "source": [
        "import torch\n",
        "\n",
        "language = 'ru'\n",
        "model_id = 'v3_1_ru'\n",
        "device = torch.device('cpu')\n",
        "\n",
        "model, example_text = torch.hub.load(repo_or_dir='snakers4/silero-models',\n",
        "                                     model='silero_tts',\n",
        "                                     language=language,\n",
        "                                     speaker=model_id)\n",
        "model.to(device)  # gpu or cpu\n",
        "\n",
        "# Вывод доступных спикеров для модуля\n",
        "print(f'Доступные спикеры:')\n",
        "model.speakers"
      ]
    },
    {
      "cell_type": "code",
      "execution_count": 8,
      "id": "9ae5f9dc",
      "metadata": {
        "id": "9ae5f9dc",
        "outputId": "cf868a6e-0ec8-4b9f-9a1b-125b7dabf6e4",
        "colab": {
          "base_uri": "https://localhost:8080/"
        }
      },
      "outputs": [
        {
          "output_type": "execute_result",
          "data": {
            "text/plain": [
              "['aidar', 'baya', 'kseniya', 'xenia', 'eugene', 'random']"
            ]
          },
          "metadata": {},
          "execution_count": 8
        }
      ],
      "source": [
        ""
      ]
    },
    {
      "cell_type": "markdown",
      "id": "25a1ab3a",
      "metadata": {
        "id": "25a1ab3a"
      },
      "source": [
        "## Запуск перевода на русский язык"
      ]
    },
    {
      "cell_type": "code",
      "execution_count": null,
      "id": "0c29189f",
      "metadata": {
        "id": "0c29189f"
      },
      "outputs": [],
      "source": [
        "ssml_sample = \"\"\"\n",
        "              <speak>\n",
        "              <p>\n",
        "                  Вс+ё, что делала наша страна по отношению к антикоррупционной структ+уре, не связано со вступлением в ЕС, а это для себ+я, для Укра+ины...\n",
        "              </p>\n",
        "                  <p>\n",
        "                    <s>Цели фонда – дать дом, а не временное убежище.</s>\n",
        "                    <s>Быстрое строительство модульного жилья из легких сборно-разборных конструкций для кратко и долгосрочного размещения беженцев, эвакуированных, внутри перемещенных лиц, что будет обеспечено отоплением, водоснабжением, канализацией и будет включать объекты социально-бытового обслуживания (прачечная, парикмахерская, пункты предоставления домедицинской и медицинской, психологической помощи).</s>\n",
        "                  </p>\n",
        "              </speak>\n",
        "              \"\"\"\n",
        "\n",
        "sample_rate = 48000\n",
        "speaker = 'kseniya'              \n",
        "audio = model.apply_tts(ssml_text=ssml_sample,\n",
        "                        speaker=speaker,\n",
        "                        sample_rate=sample_rate)\n",
        "display(Audio(audio, rate=sample_rate))"
      ]
    }
  ],
  "metadata": {
    "colab": {
      "name": "examples_rus.ipynb",
      "provenance": [],
      "toc_visible": true,
      "include_colab_link": true
    },
    "kernelspec": {
      "display_name": "Python 3 (ipykernel)",
      "language": "python",
      "name": "python3"
    },
    "language_info": {
      "codemirror_mode": {
        "name": "ipython",
        "version": 3
      },
      "file_extension": ".py",
      "mimetype": "text/x-python",
      "name": "python",
      "nbconvert_exporter": "python",
      "pygments_lexer": "ipython3",
      "version": "3.10.5"
    },
    "toc": {
      "base_numbering": 1,
      "nav_menu": {},
      "number_sections": true,
      "sideBar": true,
      "skip_h1_title": false,
      "title_cell": "Table of Contents",
      "title_sidebar": "Contents",
      "toc_cell": false,
      "toc_position": {},
      "toc_section_display": true,
      "toc_window_display": false
    }
  },
  "nbformat": 4,
  "nbformat_minor": 5
}